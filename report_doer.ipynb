{
 "cells": [
  {
   "cell_type": "code",
   "execution_count": 1,
   "metadata": {},
   "outputs": [
    {
     "name": "stderr",
     "output_type": "stream",
     "text": [
      "wandb: Using wandb-core as the SDK backend.  Please refer to https://wandb.me/wandb-core for more information.\n",
      "wandb: Currently logged in as: ae21b105 to https://api.wandb.ai. Use `wandb login --relogin` to force relogin\n"
     ]
    }
   ],
   "source": [
    "import wandb\n",
    "import numpy as np\n",
    "wandb.login()\n",
    "import matplotlib.pyplot as plt\n",
    "from keras.datasets import fashion_mnist"
   ]
  },
  {
   "cell_type": "code",
   "execution_count": 2,
   "metadata": {},
   "outputs": [
    {
     "data": {
      "text/html": [
       "creating run (0.0s)"
      ],
      "text/plain": [
       "<IPython.core.display.HTML object>"
      ]
     },
     "metadata": {},
     "output_type": "display_data"
    },
    {
     "data": {
      "text/html": [
       "Tracking run with wandb version 0.19.8"
      ],
      "text/plain": [
       "<IPython.core.display.HTML object>"
      ]
     },
     "metadata": {},
     "output_type": "display_data"
    },
    {
     "data": {
      "text/html": [
       "Run data is saved locally in <code>c:\\Users\\Joeld\\Desktop\\IITM\\SEM-08\\DA6401 - DEEP LEARNING\\DA6401-A01\\wandb\\run-20250309_104008-tazao0zj</code>"
      ],
      "text/plain": [
       "<IPython.core.display.HTML object>"
      ]
     },
     "metadata": {},
     "output_type": "display_data"
    },
    {
     "data": {
      "text/html": [
       "Syncing run <strong><a href='https://wandb.ai/A1_DA6401_DL/Reporter/runs/tazao0zj' target=\"_blank\">azure-plant-17</a></strong> to <a href='https://wandb.ai/A1_DA6401_DL/Reporter' target=\"_blank\">Weights & Biases</a> (<a href='https://wandb.me/developer-guide' target=\"_blank\">docs</a>)<br>"
      ],
      "text/plain": [
       "<IPython.core.display.HTML object>"
      ]
     },
     "metadata": {},
     "output_type": "display_data"
    },
    {
     "data": {
      "text/html": [
       " View project at <a href='https://wandb.ai/A1_DA6401_DL/Reporter' target=\"_blank\">https://wandb.ai/A1_DA6401_DL/Reporter</a>"
      ],
      "text/plain": [
       "<IPython.core.display.HTML object>"
      ]
     },
     "metadata": {},
     "output_type": "display_data"
    },
    {
     "data": {
      "text/html": [
       " View run at <a href='https://wandb.ai/A1_DA6401_DL/Reporter/runs/tazao0zj' target=\"_blank\">https://wandb.ai/A1_DA6401_DL/Reporter/runs/tazao0zj</a>"
      ],
      "text/plain": [
       "<IPython.core.display.HTML object>"
      ]
     },
     "metadata": {},
     "output_type": "display_data"
    },
    {
     "data": {
      "text/html": [],
      "text/plain": [
       "<IPython.core.display.HTML object>"
      ]
     },
     "metadata": {},
     "output_type": "display_data"
    },
    {
     "data": {
      "text/html": [
       " View run <strong style=\"color:#cdcd00\">azure-plant-17</strong> at: <a href='https://wandb.ai/A1_DA6401_DL/Reporter/runs/tazao0zj' target=\"_blank\">https://wandb.ai/A1_DA6401_DL/Reporter/runs/tazao0zj</a><br> View project at: <a href='https://wandb.ai/A1_DA6401_DL/Reporter' target=\"_blank\">https://wandb.ai/A1_DA6401_DL/Reporter</a><br>Synced 5 W&B file(s), 10 media file(s), 0 artifact file(s) and 0 other file(s)"
      ],
      "text/plain": [
       "<IPython.core.display.HTML object>"
      ]
     },
     "metadata": {},
     "output_type": "display_data"
    },
    {
     "data": {
      "text/html": [
       "Find logs at: <code>.\\wandb\\run-20250309_104008-tazao0zj\\logs</code>"
      ],
      "text/plain": [
       "<IPython.core.display.HTML object>"
      ]
     },
     "metadata": {},
     "output_type": "display_data"
    },
    {
     "data": {
      "text/html": [
       "creating run (0.7s)"
      ],
      "text/plain": [
       "<IPython.core.display.HTML object>"
      ]
     },
     "metadata": {},
     "output_type": "display_data"
    },
    {
     "data": {
      "text/html": [
       "Tracking run with wandb version 0.19.8"
      ],
      "text/plain": [
       "<IPython.core.display.HTML object>"
      ]
     },
     "metadata": {},
     "output_type": "display_data"
    },
    {
     "data": {
      "text/html": [
       "Run data is saved locally in <code>c:\\Users\\Joeld\\Desktop\\IITM\\SEM-08\\DA6401 - DEEP LEARNING\\DA6401-A01\\wandb\\run-20250309_104015-uhb6acr0</code>"
      ],
      "text/plain": [
       "<IPython.core.display.HTML object>"
      ]
     },
     "metadata": {},
     "output_type": "display_data"
    },
    {
     "data": {
      "text/html": [
       "Syncing run <strong><a href='https://wandb.ai/A1_DA6401_DL/Reporter/runs/uhb6acr0' target=\"_blank\">splendid-capybara-18</a></strong> to <a href='https://wandb.ai/A1_DA6401_DL/Reporter' target=\"_blank\">Weights & Biases</a> (<a href='https://wandb.me/developer-guide' target=\"_blank\">docs</a>)<br>"
      ],
      "text/plain": [
       "<IPython.core.display.HTML object>"
      ]
     },
     "metadata": {},
     "output_type": "display_data"
    },
    {
     "data": {
      "text/html": [
       " View project at <a href='https://wandb.ai/A1_DA6401_DL/Reporter' target=\"_blank\">https://wandb.ai/A1_DA6401_DL/Reporter</a>"
      ],
      "text/plain": [
       "<IPython.core.display.HTML object>"
      ]
     },
     "metadata": {},
     "output_type": "display_data"
    },
    {
     "data": {
      "text/html": [
       " View run at <a href='https://wandb.ai/A1_DA6401_DL/Reporter/runs/uhb6acr0' target=\"_blank\">https://wandb.ai/A1_DA6401_DL/Reporter/runs/uhb6acr0</a>"
      ],
      "text/plain": [
       "<IPython.core.display.HTML object>"
      ]
     },
     "metadata": {},
     "output_type": "display_data"
    },
    {
     "data": {
      "text/html": [],
      "text/plain": [
       "<IPython.core.display.HTML object>"
      ]
     },
     "metadata": {},
     "output_type": "display_data"
    },
    {
     "data": {
      "text/html": [
       " View run <strong style=\"color:#cdcd00\">splendid-capybara-18</strong> at: <a href='https://wandb.ai/A1_DA6401_DL/Reporter/runs/uhb6acr0' target=\"_blank\">https://wandb.ai/A1_DA6401_DL/Reporter/runs/uhb6acr0</a><br> View project at: <a href='https://wandb.ai/A1_DA6401_DL/Reporter' target=\"_blank\">https://wandb.ai/A1_DA6401_DL/Reporter</a><br>Synced 5 W&B file(s), 10 media file(s), 0 artifact file(s) and 0 other file(s)"
      ],
      "text/plain": [
       "<IPython.core.display.HTML object>"
      ]
     },
     "metadata": {},
     "output_type": "display_data"
    },
    {
     "data": {
      "text/html": [
       "Find logs at: <code>.\\wandb\\run-20250309_104015-uhb6acr0\\logs</code>"
      ],
      "text/plain": [
       "<IPython.core.display.HTML object>"
      ]
     },
     "metadata": {},
     "output_type": "display_data"
    },
    {
     "data": {
      "text/html": [
       "creating run (0.5s)"
      ],
      "text/plain": [
       "<IPython.core.display.HTML object>"
      ]
     },
     "metadata": {},
     "output_type": "display_data"
    },
    {
     "data": {
      "text/html": [
       "Tracking run with wandb version 0.19.8"
      ],
      "text/plain": [
       "<IPython.core.display.HTML object>"
      ]
     },
     "metadata": {},
     "output_type": "display_data"
    },
    {
     "data": {
      "text/html": [
       "Run data is saved locally in <code>c:\\Users\\Joeld\\Desktop\\IITM\\SEM-08\\DA6401 - DEEP LEARNING\\DA6401-A01\\wandb\\run-20250309_104021-yt6rap85</code>"
      ],
      "text/plain": [
       "<IPython.core.display.HTML object>"
      ]
     },
     "metadata": {},
     "output_type": "display_data"
    },
    {
     "data": {
      "text/html": [
       "Syncing run <strong><a href='https://wandb.ai/A1_DA6401_DL/Reporter/runs/yt6rap85' target=\"_blank\">glamorous-snowflake-19</a></strong> to <a href='https://wandb.ai/A1_DA6401_DL/Reporter' target=\"_blank\">Weights & Biases</a> (<a href='https://wandb.me/developer-guide' target=\"_blank\">docs</a>)<br>"
      ],
      "text/plain": [
       "<IPython.core.display.HTML object>"
      ]
     },
     "metadata": {},
     "output_type": "display_data"
    },
    {
     "data": {
      "text/html": [
       " View project at <a href='https://wandb.ai/A1_DA6401_DL/Reporter' target=\"_blank\">https://wandb.ai/A1_DA6401_DL/Reporter</a>"
      ],
      "text/plain": [
       "<IPython.core.display.HTML object>"
      ]
     },
     "metadata": {},
     "output_type": "display_data"
    },
    {
     "data": {
      "text/html": [
       " View run at <a href='https://wandb.ai/A1_DA6401_DL/Reporter/runs/yt6rap85' target=\"_blank\">https://wandb.ai/A1_DA6401_DL/Reporter/runs/yt6rap85</a>"
      ],
      "text/plain": [
       "<IPython.core.display.HTML object>"
      ]
     },
     "metadata": {},
     "output_type": "display_data"
    },
    {
     "data": {
      "text/html": [],
      "text/plain": [
       "<IPython.core.display.HTML object>"
      ]
     },
     "metadata": {},
     "output_type": "display_data"
    },
    {
     "data": {
      "text/html": [
       " View run <strong style=\"color:#cdcd00\">glamorous-snowflake-19</strong> at: <a href='https://wandb.ai/A1_DA6401_DL/Reporter/runs/yt6rap85' target=\"_blank\">https://wandb.ai/A1_DA6401_DL/Reporter/runs/yt6rap85</a><br> View project at: <a href='https://wandb.ai/A1_DA6401_DL/Reporter' target=\"_blank\">https://wandb.ai/A1_DA6401_DL/Reporter</a><br>Synced 5 W&B file(s), 10 media file(s), 0 artifact file(s) and 0 other file(s)"
      ],
      "text/plain": [
       "<IPython.core.display.HTML object>"
      ]
     },
     "metadata": {},
     "output_type": "display_data"
    },
    {
     "data": {
      "text/html": [
       "Find logs at: <code>.\\wandb\\run-20250309_104021-yt6rap85\\logs</code>"
      ],
      "text/plain": [
       "<IPython.core.display.HTML object>"
      ]
     },
     "metadata": {},
     "output_type": "display_data"
    },
    {
     "data": {
      "text/html": [
       "creating run (0.2s)"
      ],
      "text/plain": [
       "<IPython.core.display.HTML object>"
      ]
     },
     "metadata": {},
     "output_type": "display_data"
    },
    {
     "data": {
      "text/html": [
       "Tracking run with wandb version 0.19.8"
      ],
      "text/plain": [
       "<IPython.core.display.HTML object>"
      ]
     },
     "metadata": {},
     "output_type": "display_data"
    },
    {
     "data": {
      "text/html": [
       "Run data is saved locally in <code>c:\\Users\\Joeld\\Desktop\\IITM\\SEM-08\\DA6401 - DEEP LEARNING\\DA6401-A01\\wandb\\run-20250309_104027-lwnofvf3</code>"
      ],
      "text/plain": [
       "<IPython.core.display.HTML object>"
      ]
     },
     "metadata": {},
     "output_type": "display_data"
    },
    {
     "data": {
      "text/html": [
       "Syncing run <strong><a href='https://wandb.ai/A1_DA6401_DL/Reporter/runs/lwnofvf3' target=\"_blank\">super-river-20</a></strong> to <a href='https://wandb.ai/A1_DA6401_DL/Reporter' target=\"_blank\">Weights & Biases</a> (<a href='https://wandb.me/developer-guide' target=\"_blank\">docs</a>)<br>"
      ],
      "text/plain": [
       "<IPython.core.display.HTML object>"
      ]
     },
     "metadata": {},
     "output_type": "display_data"
    },
    {
     "data": {
      "text/html": [
       " View project at <a href='https://wandb.ai/A1_DA6401_DL/Reporter' target=\"_blank\">https://wandb.ai/A1_DA6401_DL/Reporter</a>"
      ],
      "text/plain": [
       "<IPython.core.display.HTML object>"
      ]
     },
     "metadata": {},
     "output_type": "display_data"
    },
    {
     "data": {
      "text/html": [
       " View run at <a href='https://wandb.ai/A1_DA6401_DL/Reporter/runs/lwnofvf3' target=\"_blank\">https://wandb.ai/A1_DA6401_DL/Reporter/runs/lwnofvf3</a>"
      ],
      "text/plain": [
       "<IPython.core.display.HTML object>"
      ]
     },
     "metadata": {},
     "output_type": "display_data"
    },
    {
     "data": {
      "text/html": [],
      "text/plain": [
       "<IPython.core.display.HTML object>"
      ]
     },
     "metadata": {},
     "output_type": "display_data"
    },
    {
     "data": {
      "text/html": [
       " View run <strong style=\"color:#cdcd00\">super-river-20</strong> at: <a href='https://wandb.ai/A1_DA6401_DL/Reporter/runs/lwnofvf3' target=\"_blank\">https://wandb.ai/A1_DA6401_DL/Reporter/runs/lwnofvf3</a><br> View project at: <a href='https://wandb.ai/A1_DA6401_DL/Reporter' target=\"_blank\">https://wandb.ai/A1_DA6401_DL/Reporter</a><br>Synced 5 W&B file(s), 10 media file(s), 0 artifact file(s) and 0 other file(s)"
      ],
      "text/plain": [
       "<IPython.core.display.HTML object>"
      ]
     },
     "metadata": {},
     "output_type": "display_data"
    },
    {
     "data": {
      "text/html": [
       "Find logs at: <code>.\\wandb\\run-20250309_104027-lwnofvf3\\logs</code>"
      ],
      "text/plain": [
       "<IPython.core.display.HTML object>"
      ]
     },
     "metadata": {},
     "output_type": "display_data"
    },
    {
     "data": {
      "text/html": [
       "creating run (0.1s)"
      ],
      "text/plain": [
       "<IPython.core.display.HTML object>"
      ]
     },
     "metadata": {},
     "output_type": "display_data"
    },
    {
     "data": {
      "text/html": [
       "Tracking run with wandb version 0.19.8"
      ],
      "text/plain": [
       "<IPython.core.display.HTML object>"
      ]
     },
     "metadata": {},
     "output_type": "display_data"
    },
    {
     "data": {
      "text/html": [
       "Run data is saved locally in <code>c:\\Users\\Joeld\\Desktop\\IITM\\SEM-08\\DA6401 - DEEP LEARNING\\DA6401-A01\\wandb\\run-20250309_104033-9zf4ybza</code>"
      ],
      "text/plain": [
       "<IPython.core.display.HTML object>"
      ]
     },
     "metadata": {},
     "output_type": "display_data"
    },
    {
     "data": {
      "text/html": [
       "Syncing run <strong><a href='https://wandb.ai/A1_DA6401_DL/Reporter/runs/9zf4ybza' target=\"_blank\">still-dawn-21</a></strong> to <a href='https://wandb.ai/A1_DA6401_DL/Reporter' target=\"_blank\">Weights & Biases</a> (<a href='https://wandb.me/developer-guide' target=\"_blank\">docs</a>)<br>"
      ],
      "text/plain": [
       "<IPython.core.display.HTML object>"
      ]
     },
     "metadata": {},
     "output_type": "display_data"
    },
    {
     "data": {
      "text/html": [
       " View project at <a href='https://wandb.ai/A1_DA6401_DL/Reporter' target=\"_blank\">https://wandb.ai/A1_DA6401_DL/Reporter</a>"
      ],
      "text/plain": [
       "<IPython.core.display.HTML object>"
      ]
     },
     "metadata": {},
     "output_type": "display_data"
    },
    {
     "data": {
      "text/html": [
       " View run at <a href='https://wandb.ai/A1_DA6401_DL/Reporter/runs/9zf4ybza' target=\"_blank\">https://wandb.ai/A1_DA6401_DL/Reporter/runs/9zf4ybza</a>"
      ],
      "text/plain": [
       "<IPython.core.display.HTML object>"
      ]
     },
     "metadata": {},
     "output_type": "display_data"
    },
    {
     "data": {
      "text/html": [],
      "text/plain": [
       "<IPython.core.display.HTML object>"
      ]
     },
     "metadata": {},
     "output_type": "display_data"
    },
    {
     "data": {
      "text/html": [
       " View run <strong style=\"color:#cdcd00\">still-dawn-21</strong> at: <a href='https://wandb.ai/A1_DA6401_DL/Reporter/runs/9zf4ybza' target=\"_blank\">https://wandb.ai/A1_DA6401_DL/Reporter/runs/9zf4ybza</a><br> View project at: <a href='https://wandb.ai/A1_DA6401_DL/Reporter' target=\"_blank\">https://wandb.ai/A1_DA6401_DL/Reporter</a><br>Synced 5 W&B file(s), 10 media file(s), 0 artifact file(s) and 0 other file(s)"
      ],
      "text/plain": [
       "<IPython.core.display.HTML object>"
      ]
     },
     "metadata": {},
     "output_type": "display_data"
    },
    {
     "data": {
      "text/html": [
       "Find logs at: <code>.\\wandb\\run-20250309_104033-9zf4ybza\\logs</code>"
      ],
      "text/plain": [
       "<IPython.core.display.HTML object>"
      ]
     },
     "metadata": {},
     "output_type": "display_data"
    },
    {
     "data": {
      "text/html": [
       "Waiting for wandb.init()..."
      ],
      "text/plain": [
       "<IPython.core.display.HTML object>"
      ]
     },
     "metadata": {},
     "output_type": "display_data"
    },
    {
     "data": {
      "text/html": [
       "Tracking run with wandb version 0.19.8"
      ],
      "text/plain": [
       "<IPython.core.display.HTML object>"
      ]
     },
     "metadata": {},
     "output_type": "display_data"
    },
    {
     "data": {
      "text/html": [
       "Run data is saved locally in <code>c:\\Users\\Joeld\\Desktop\\IITM\\SEM-08\\DA6401 - DEEP LEARNING\\DA6401-A01\\wandb\\run-20250309_104038-p16ox48q</code>"
      ],
      "text/plain": [
       "<IPython.core.display.HTML object>"
      ]
     },
     "metadata": {},
     "output_type": "display_data"
    },
    {
     "data": {
      "text/html": [
       "Syncing run <strong><a href='https://wandb.ai/A1_DA6401_DL/Reporter/runs/p16ox48q' target=\"_blank\">curious-violet-22</a></strong> to <a href='https://wandb.ai/A1_DA6401_DL/Reporter' target=\"_blank\">Weights & Biases</a> (<a href='https://wandb.me/developer-guide' target=\"_blank\">docs</a>)<br>"
      ],
      "text/plain": [
       "<IPython.core.display.HTML object>"
      ]
     },
     "metadata": {},
     "output_type": "display_data"
    },
    {
     "data": {
      "text/html": [
       " View project at <a href='https://wandb.ai/A1_DA6401_DL/Reporter' target=\"_blank\">https://wandb.ai/A1_DA6401_DL/Reporter</a>"
      ],
      "text/plain": [
       "<IPython.core.display.HTML object>"
      ]
     },
     "metadata": {},
     "output_type": "display_data"
    },
    {
     "data": {
      "text/html": [
       " View run at <a href='https://wandb.ai/A1_DA6401_DL/Reporter/runs/p16ox48q' target=\"_blank\">https://wandb.ai/A1_DA6401_DL/Reporter/runs/p16ox48q</a>"
      ],
      "text/plain": [
       "<IPython.core.display.HTML object>"
      ]
     },
     "metadata": {},
     "output_type": "display_data"
    },
    {
     "data": {
      "text/html": [],
      "text/plain": [
       "<IPython.core.display.HTML object>"
      ]
     },
     "metadata": {},
     "output_type": "display_data"
    },
    {
     "data": {
      "text/html": [
       " View run <strong style=\"color:#cdcd00\">curious-violet-22</strong> at: <a href='https://wandb.ai/A1_DA6401_DL/Reporter/runs/p16ox48q' target=\"_blank\">https://wandb.ai/A1_DA6401_DL/Reporter/runs/p16ox48q</a><br> View project at: <a href='https://wandb.ai/A1_DA6401_DL/Reporter' target=\"_blank\">https://wandb.ai/A1_DA6401_DL/Reporter</a><br>Synced 5 W&B file(s), 10 media file(s), 0 artifact file(s) and 0 other file(s)"
      ],
      "text/plain": [
       "<IPython.core.display.HTML object>"
      ]
     },
     "metadata": {},
     "output_type": "display_data"
    },
    {
     "data": {
      "text/html": [
       "Find logs at: <code>.\\wandb\\run-20250309_104038-p16ox48q\\logs</code>"
      ],
      "text/plain": [
       "<IPython.core.display.HTML object>"
      ]
     },
     "metadata": {},
     "output_type": "display_data"
    },
    {
     "data": {
      "text/html": [
       "creating run (0.1s)"
      ],
      "text/plain": [
       "<IPython.core.display.HTML object>"
      ]
     },
     "metadata": {},
     "output_type": "display_data"
    },
    {
     "data": {
      "text/html": [
       "Tracking run with wandb version 0.19.8"
      ],
      "text/plain": [
       "<IPython.core.display.HTML object>"
      ]
     },
     "metadata": {},
     "output_type": "display_data"
    },
    {
     "data": {
      "text/html": [
       "Run data is saved locally in <code>c:\\Users\\Joeld\\Desktop\\IITM\\SEM-08\\DA6401 - DEEP LEARNING\\DA6401-A01\\wandb\\run-20250309_104045-5g4pi129</code>"
      ],
      "text/plain": [
       "<IPython.core.display.HTML object>"
      ]
     },
     "metadata": {},
     "output_type": "display_data"
    },
    {
     "data": {
      "text/html": [
       "Syncing run <strong><a href='https://wandb.ai/A1_DA6401_DL/Reporter/runs/5g4pi129' target=\"_blank\">swept-voice-23</a></strong> to <a href='https://wandb.ai/A1_DA6401_DL/Reporter' target=\"_blank\">Weights & Biases</a> (<a href='https://wandb.me/developer-guide' target=\"_blank\">docs</a>)<br>"
      ],
      "text/plain": [
       "<IPython.core.display.HTML object>"
      ]
     },
     "metadata": {},
     "output_type": "display_data"
    },
    {
     "data": {
      "text/html": [
       " View project at <a href='https://wandb.ai/A1_DA6401_DL/Reporter' target=\"_blank\">https://wandb.ai/A1_DA6401_DL/Reporter</a>"
      ],
      "text/plain": [
       "<IPython.core.display.HTML object>"
      ]
     },
     "metadata": {},
     "output_type": "display_data"
    },
    {
     "data": {
      "text/html": [
       " View run at <a href='https://wandb.ai/A1_DA6401_DL/Reporter/runs/5g4pi129' target=\"_blank\">https://wandb.ai/A1_DA6401_DL/Reporter/runs/5g4pi129</a>"
      ],
      "text/plain": [
       "<IPython.core.display.HTML object>"
      ]
     },
     "metadata": {},
     "output_type": "display_data"
    },
    {
     "data": {
      "text/html": [],
      "text/plain": [
       "<IPython.core.display.HTML object>"
      ]
     },
     "metadata": {},
     "output_type": "display_data"
    },
    {
     "data": {
      "text/html": [
       " View run <strong style=\"color:#cdcd00\">swept-voice-23</strong> at: <a href='https://wandb.ai/A1_DA6401_DL/Reporter/runs/5g4pi129' target=\"_blank\">https://wandb.ai/A1_DA6401_DL/Reporter/runs/5g4pi129</a><br> View project at: <a href='https://wandb.ai/A1_DA6401_DL/Reporter' target=\"_blank\">https://wandb.ai/A1_DA6401_DL/Reporter</a><br>Synced 5 W&B file(s), 10 media file(s), 0 artifact file(s) and 0 other file(s)"
      ],
      "text/plain": [
       "<IPython.core.display.HTML object>"
      ]
     },
     "metadata": {},
     "output_type": "display_data"
    },
    {
     "data": {
      "text/html": [
       "Find logs at: <code>.\\wandb\\run-20250309_104045-5g4pi129\\logs</code>"
      ],
      "text/plain": [
       "<IPython.core.display.HTML object>"
      ]
     },
     "metadata": {},
     "output_type": "display_data"
    },
    {
     "data": {
      "text/html": [
       "creating run (0.1s)"
      ],
      "text/plain": [
       "<IPython.core.display.HTML object>"
      ]
     },
     "metadata": {},
     "output_type": "display_data"
    },
    {
     "data": {
      "text/html": [
       "Tracking run with wandb version 0.19.8"
      ],
      "text/plain": [
       "<IPython.core.display.HTML object>"
      ]
     },
     "metadata": {},
     "output_type": "display_data"
    },
    {
     "data": {
      "text/html": [
       "Run data is saved locally in <code>c:\\Users\\Joeld\\Desktop\\IITM\\SEM-08\\DA6401 - DEEP LEARNING\\DA6401-A01\\wandb\\run-20250309_104052-9x0u3tco</code>"
      ],
      "text/plain": [
       "<IPython.core.display.HTML object>"
      ]
     },
     "metadata": {},
     "output_type": "display_data"
    },
    {
     "data": {
      "text/html": [
       "Syncing run <strong><a href='https://wandb.ai/A1_DA6401_DL/Reporter/runs/9x0u3tco' target=\"_blank\">young-haze-24</a></strong> to <a href='https://wandb.ai/A1_DA6401_DL/Reporter' target=\"_blank\">Weights & Biases</a> (<a href='https://wandb.me/developer-guide' target=\"_blank\">docs</a>)<br>"
      ],
      "text/plain": [
       "<IPython.core.display.HTML object>"
      ]
     },
     "metadata": {},
     "output_type": "display_data"
    },
    {
     "data": {
      "text/html": [
       " View project at <a href='https://wandb.ai/A1_DA6401_DL/Reporter' target=\"_blank\">https://wandb.ai/A1_DA6401_DL/Reporter</a>"
      ],
      "text/plain": [
       "<IPython.core.display.HTML object>"
      ]
     },
     "metadata": {},
     "output_type": "display_data"
    },
    {
     "data": {
      "text/html": [
       " View run at <a href='https://wandb.ai/A1_DA6401_DL/Reporter/runs/9x0u3tco' target=\"_blank\">https://wandb.ai/A1_DA6401_DL/Reporter/runs/9x0u3tco</a>"
      ],
      "text/plain": [
       "<IPython.core.display.HTML object>"
      ]
     },
     "metadata": {},
     "output_type": "display_data"
    },
    {
     "data": {
      "text/html": [],
      "text/plain": [
       "<IPython.core.display.HTML object>"
      ]
     },
     "metadata": {},
     "output_type": "display_data"
    },
    {
     "data": {
      "text/html": [
       " View run <strong style=\"color:#cdcd00\">young-haze-24</strong> at: <a href='https://wandb.ai/A1_DA6401_DL/Reporter/runs/9x0u3tco' target=\"_blank\">https://wandb.ai/A1_DA6401_DL/Reporter/runs/9x0u3tco</a><br> View project at: <a href='https://wandb.ai/A1_DA6401_DL/Reporter' target=\"_blank\">https://wandb.ai/A1_DA6401_DL/Reporter</a><br>Synced 5 W&B file(s), 10 media file(s), 0 artifact file(s) and 0 other file(s)"
      ],
      "text/plain": [
       "<IPython.core.display.HTML object>"
      ]
     },
     "metadata": {},
     "output_type": "display_data"
    },
    {
     "data": {
      "text/html": [
       "Find logs at: <code>.\\wandb\\run-20250309_104052-9x0u3tco\\logs</code>"
      ],
      "text/plain": [
       "<IPython.core.display.HTML object>"
      ]
     },
     "metadata": {},
     "output_type": "display_data"
    },
    {
     "data": {
      "text/html": [
       "creating run (0.3s)"
      ],
      "text/plain": [
       "<IPython.core.display.HTML object>"
      ]
     },
     "metadata": {},
     "output_type": "display_data"
    },
    {
     "data": {
      "text/html": [
       "Tracking run with wandb version 0.19.8"
      ],
      "text/plain": [
       "<IPython.core.display.HTML object>"
      ]
     },
     "metadata": {},
     "output_type": "display_data"
    },
    {
     "data": {
      "text/html": [
       "Run data is saved locally in <code>c:\\Users\\Joeld\\Desktop\\IITM\\SEM-08\\DA6401 - DEEP LEARNING\\DA6401-A01\\wandb\\run-20250309_104058-kahmbjgu</code>"
      ],
      "text/plain": [
       "<IPython.core.display.HTML object>"
      ]
     },
     "metadata": {},
     "output_type": "display_data"
    },
    {
     "data": {
      "text/html": [
       "Syncing run <strong><a href='https://wandb.ai/A1_DA6401_DL/Reporter/runs/kahmbjgu' target=\"_blank\">treasured-morning-25</a></strong> to <a href='https://wandb.ai/A1_DA6401_DL/Reporter' target=\"_blank\">Weights & Biases</a> (<a href='https://wandb.me/developer-guide' target=\"_blank\">docs</a>)<br>"
      ],
      "text/plain": [
       "<IPython.core.display.HTML object>"
      ]
     },
     "metadata": {},
     "output_type": "display_data"
    },
    {
     "data": {
      "text/html": [
       " View project at <a href='https://wandb.ai/A1_DA6401_DL/Reporter' target=\"_blank\">https://wandb.ai/A1_DA6401_DL/Reporter</a>"
      ],
      "text/plain": [
       "<IPython.core.display.HTML object>"
      ]
     },
     "metadata": {},
     "output_type": "display_data"
    },
    {
     "data": {
      "text/html": [
       " View run at <a href='https://wandb.ai/A1_DA6401_DL/Reporter/runs/kahmbjgu' target=\"_blank\">https://wandb.ai/A1_DA6401_DL/Reporter/runs/kahmbjgu</a>"
      ],
      "text/plain": [
       "<IPython.core.display.HTML object>"
      ]
     },
     "metadata": {},
     "output_type": "display_data"
    },
    {
     "data": {
      "text/html": [],
      "text/plain": [
       "<IPython.core.display.HTML object>"
      ]
     },
     "metadata": {},
     "output_type": "display_data"
    },
    {
     "data": {
      "text/html": [
       " View run <strong style=\"color:#cdcd00\">treasured-morning-25</strong> at: <a href='https://wandb.ai/A1_DA6401_DL/Reporter/runs/kahmbjgu' target=\"_blank\">https://wandb.ai/A1_DA6401_DL/Reporter/runs/kahmbjgu</a><br> View project at: <a href='https://wandb.ai/A1_DA6401_DL/Reporter' target=\"_blank\">https://wandb.ai/A1_DA6401_DL/Reporter</a><br>Synced 5 W&B file(s), 10 media file(s), 0 artifact file(s) and 0 other file(s)"
      ],
      "text/plain": [
       "<IPython.core.display.HTML object>"
      ]
     },
     "metadata": {},
     "output_type": "display_data"
    },
    {
     "data": {
      "text/html": [
       "Find logs at: <code>.\\wandb\\run-20250309_104058-kahmbjgu\\logs</code>"
      ],
      "text/plain": [
       "<IPython.core.display.HTML object>"
      ]
     },
     "metadata": {},
     "output_type": "display_data"
    },
    {
     "data": {
      "text/html": [
       "creating run (0.7s)"
      ],
      "text/plain": [
       "<IPython.core.display.HTML object>"
      ]
     },
     "metadata": {},
     "output_type": "display_data"
    },
    {
     "data": {
      "text/html": [
       "Tracking run with wandb version 0.19.8"
      ],
      "text/plain": [
       "<IPython.core.display.HTML object>"
      ]
     },
     "metadata": {},
     "output_type": "display_data"
    },
    {
     "data": {
      "text/html": [
       "Run data is saved locally in <code>c:\\Users\\Joeld\\Desktop\\IITM\\SEM-08\\DA6401 - DEEP LEARNING\\DA6401-A01\\wandb\\run-20250309_104104-o1kcszis</code>"
      ],
      "text/plain": [
       "<IPython.core.display.HTML object>"
      ]
     },
     "metadata": {},
     "output_type": "display_data"
    },
    {
     "data": {
      "text/html": [
       "Syncing run <strong><a href='https://wandb.ai/A1_DA6401_DL/Reporter/runs/o1kcszis' target=\"_blank\">radiant-monkey-26</a></strong> to <a href='https://wandb.ai/A1_DA6401_DL/Reporter' target=\"_blank\">Weights & Biases</a> (<a href='https://wandb.me/developer-guide' target=\"_blank\">docs</a>)<br>"
      ],
      "text/plain": [
       "<IPython.core.display.HTML object>"
      ]
     },
     "metadata": {},
     "output_type": "display_data"
    },
    {
     "data": {
      "text/html": [
       " View project at <a href='https://wandb.ai/A1_DA6401_DL/Reporter' target=\"_blank\">https://wandb.ai/A1_DA6401_DL/Reporter</a>"
      ],
      "text/plain": [
       "<IPython.core.display.HTML object>"
      ]
     },
     "metadata": {},
     "output_type": "display_data"
    },
    {
     "data": {
      "text/html": [
       " View run at <a href='https://wandb.ai/A1_DA6401_DL/Reporter/runs/o1kcszis' target=\"_blank\">https://wandb.ai/A1_DA6401_DL/Reporter/runs/o1kcszis</a>"
      ],
      "text/plain": [
       "<IPython.core.display.HTML object>"
      ]
     },
     "metadata": {},
     "output_type": "display_data"
    },
    {
     "data": {
      "text/html": [],
      "text/plain": [
       "<IPython.core.display.HTML object>"
      ]
     },
     "metadata": {},
     "output_type": "display_data"
    },
    {
     "data": {
      "text/html": [
       " View run <strong style=\"color:#cdcd00\">radiant-monkey-26</strong> at: <a href='https://wandb.ai/A1_DA6401_DL/Reporter/runs/o1kcszis' target=\"_blank\">https://wandb.ai/A1_DA6401_DL/Reporter/runs/o1kcszis</a><br> View project at: <a href='https://wandb.ai/A1_DA6401_DL/Reporter' target=\"_blank\">https://wandb.ai/A1_DA6401_DL/Reporter</a><br>Synced 5 W&B file(s), 10 media file(s), 0 artifact file(s) and 0 other file(s)"
      ],
      "text/plain": [
       "<IPython.core.display.HTML object>"
      ]
     },
     "metadata": {},
     "output_type": "display_data"
    },
    {
     "data": {
      "text/html": [
       "Find logs at: <code>.\\wandb\\run-20250309_104104-o1kcszis\\logs</code>"
      ],
      "text/plain": [
       "<IPython.core.display.HTML object>"
      ]
     },
     "metadata": {},
     "output_type": "display_data"
    }
   ],
   "source": [
    "# Load the dataset\n",
    "(x_train, y_train), (_, _) = fashion_mnist.load_data()\n",
    "\n",
    "# Plot one sample image for each class\n",
    "class_names = ['T-shirt/top', 'Trouser', 'Pullover', 'Dress', 'Coat', \n",
    "               'Sandal', 'Shirt', 'Sneaker', 'Bag', 'Ankle boot']\n",
    "font = {'family' : 'Comic Sans MS','weight' : 'normal', 'size'   : 30}  \n",
    "for i in range(10):\n",
    "    # Initialize wandb\n",
    "    wandb.init(project=\"Reporter\", entity=\"A1_DA6401_DL\")\n",
    "    images = []\n",
    "    #idx = next(j for j, label in enumerate(y_train) if label == i)\n",
    "    idx = (np.arange(60000)[y_train == i])[np.random.randint(0, 6000,size=10)]\n",
    "    for j in idx:\n",
    "        plt.imshow(x_train[j], cmap='gray')\n",
    "        plt.title(class_names[i],fontdict=font)\n",
    "        plt.axis('off')\n",
    "        images.append(wandb.Image(plt.gcf()))\n",
    "        plt.close()\n",
    "\n",
    "    # Log images to wandb\n",
    "    wandb.log({\"Sample Images\": images})\n",
    "    wandb.finish()"
   ]
  },
  {
   "cell_type": "code",
   "execution_count": null,
   "metadata": {},
   "outputs": [],
   "source": []
  },
  {
   "cell_type": "code",
   "execution_count": 1,
   "metadata": {},
   "outputs": [
    {
     "name": "stderr",
     "output_type": "stream",
     "text": [
      "wandb: Using wandb-core as the SDK backend.  Please refer to https://wandb.me/wandb-core for more information.\n",
      "wandb: Currently logged in as: ae21b105 to https://api.wandb.ai. Use `wandb login --relogin` to force relogin\n"
     ]
    },
    {
     "data": {
      "text/plain": [
       "True"
      ]
     },
     "execution_count": 1,
     "metadata": {},
     "output_type": "execute_result"
    }
   ],
   "source": [
    "import source\n",
    "import numpy as np\n",
    "import wandb\n",
    "from keras.datasets import fashion_mnist\n",
    "wandb.login()"
   ]
  },
  {
   "cell_type": "code",
   "execution_count": 8,
   "metadata": {},
   "outputs": [],
   "source": [
    "class_names = ['T-shirt/top', 'Trouser', 'Pullover', 'Dress', 'Coat', \n",
    "               'Sandal', 'Shirt', 'Sneaker', 'Bag', 'Ankle boot']\n"
   ]
  },
  {
   "cell_type": "code",
   "execution_count": 3,
   "metadata": {},
   "outputs": [
    {
     "data": {
      "text/html": [
       "creating run (0.5s)"
      ],
      "text/plain": [
       "<IPython.core.display.HTML object>"
      ]
     },
     "metadata": {},
     "output_type": "display_data"
    },
    {
     "data": {
      "text/html": [
       "Tracking run with wandb version 0.19.8"
      ],
      "text/plain": [
       "<IPython.core.display.HTML object>"
      ]
     },
     "metadata": {},
     "output_type": "display_data"
    },
    {
     "data": {
      "text/html": [
       "Run data is saved locally in <code>c:\\Users\\Joeld\\Desktop\\IITM\\SEM-08\\DA6401 - DEEP LEARNING\\DA6401-A01\\wandb\\run-20250309_111711-wbzy8v9j</code>"
      ],
      "text/plain": [
       "<IPython.core.display.HTML object>"
      ]
     },
     "metadata": {},
     "output_type": "display_data"
    },
    {
     "data": {
      "text/html": [
       "Syncing run <strong><a href='https://wandb.ai/A1_DA6401_DL/Reporter/runs/wbzy8v9j' target=\"_blank\">easy-star-31</a></strong> to <a href='https://wandb.ai/A1_DA6401_DL/Reporter' target=\"_blank\">Weights & Biases</a> (<a href='https://wandb.me/developer-guide' target=\"_blank\">docs</a>)<br>"
      ],
      "text/plain": [
       "<IPython.core.display.HTML object>"
      ]
     },
     "metadata": {},
     "output_type": "display_data"
    },
    {
     "data": {
      "text/html": [
       " View project at <a href='https://wandb.ai/A1_DA6401_DL/Reporter' target=\"_blank\">https://wandb.ai/A1_DA6401_DL/Reporter</a>"
      ],
      "text/plain": [
       "<IPython.core.display.HTML object>"
      ]
     },
     "metadata": {},
     "output_type": "display_data"
    },
    {
     "data": {
      "text/html": [
       " View run at <a href='https://wandb.ai/A1_DA6401_DL/Reporter/runs/wbzy8v9j' target=\"_blank\">https://wandb.ai/A1_DA6401_DL/Reporter/runs/wbzy8v9j</a>"
      ],
      "text/plain": [
       "<IPython.core.display.HTML object>"
      ]
     },
     "metadata": {},
     "output_type": "display_data"
    }
   ],
   "source": [
    "(x_train, y_train), (_, _) = fashion_mnist.load_data()\n",
    "x_train = x_train.reshape(60000,-1)/255.0\n",
    "wandb.init(project=\"Reporter\", entity=\"A1_DA6401_DL\")\n",
    "# Lets take the first 10 datapoints\n",
    "x_train = x_train[:5]\n",
    "y_train = y_train\n",
    "# A simple network\n",
    "arch = [784, 64, 10]\n",
    "activation_sequence =   ['relu', 'softmax']\n",
    "\n",
    "md1 = source.FeedForwardNeuralNetwork(arch=arch, activation_sequence=activation_sequence)\n",
    "prediction = md1.forward_call(x_train).astype(np.float32)\n",
    "prediction = prediction.tolist()\n",
    "my_table = wandb.Table(columns=class_names, data=prediction)\n",
    "\n",
    "wandb.log({\"prediction_table\" : my_table})"
   ]
  },
  {
   "cell_type": "code",
   "execution_count": 1,
   "metadata": {},
   "outputs": [
    {
     "name": "stderr",
     "output_type": "stream",
     "text": [
      "wandb: Using wandb-core as the SDK backend.  Please refer to https://wandb.me/wandb-core for more information.\n",
      "wandb: Currently logged in as: ae21b105 to https://api.wandb.ai. Use `wandb login --relogin` to force relogin\n"
     ]
    },
    {
     "data": {
      "text/plain": [
       "True"
      ]
     },
     "execution_count": 1,
     "metadata": {},
     "output_type": "execute_result"
    }
   ],
   "source": [
    "import source\n",
    "import numpy as np\n",
    "import wandb\n",
    "from keras.datasets import fashion_mnist\n",
    "wandb.login()\n"
   ]
  },
  {
   "cell_type": "code",
   "execution_count": 2,
   "metadata": {},
   "outputs": [],
   "source": [
    "(x_train, y_train), (_, _) = fashion_mnist.load_data()\n",
    "from sklearn.model_selection import train_test_split\n",
    "x_train,x_cv,y_train,y_cv = train_test_split(x_train,y_train,test_size=0.1,stratify=y_train)\n",
    "\n",
    "x_train = x_train.reshape(54000,-1)/255.0\n",
    "y_train = source.one_hot_numpy(y_train)\n",
    "x_cv = x_cv.reshape(6000,-1)/255.0\n",
    "y_cv = source.one_hot_numpy(y_cv)"
   ]
  },
  {
   "cell_type": "code",
   "execution_count": 3,
   "metadata": {},
   "outputs": [],
   "source": [
    "arch = [784, 128, 10]\n",
    "activation_sequence =   ['relu', 'softmax']\n",
    "optimizer = \"adam\"\n",
    "learning_rate = 1e-3\n",
    "loss = \"mean_squared_error\"\n",
    "initialization = \"Xavier\"\n",
    "momentum = 0.95\n",
    "weight_decay = 1e-6\n",
    "beta_rms = 0.95\n",
    "beta_1 = 0.9\n",
    "beta_2 = 0.99\n",
    "md1 = source.FeedForwardNeuralNetwork(arch=arch, activation_sequence=activation_sequence, optimizer=optimizer,\n",
    "                                      learning_rate=learning_rate,weight_decay= weight_decay, loss=loss,initialization=initialization,momentum=momentum,beta_rms=beta_rms,\n",
    "                                      beta_1=beta_1,beta_2=beta_2)"
   ]
  },
  {
   "cell_type": "code",
   "execution_count": 5,
   "metadata": {},
   "outputs": [],
   "source": [
    "batch_train = source.Batchloader(x_train, y_train, batch_size=64,shuffle=True)\n",
    "batch_test = source.Batchloader(x_cv, y_cv, batch_size=64,shuffle=False)"
   ]
  },
  {
   "cell_type": "code",
   "execution_count": 6,
   "metadata": {},
   "outputs": [
    {
     "data": {
      "text/html": [
       "creating run (0.3s)"
      ],
      "text/plain": [
       "<IPython.core.display.HTML object>"
      ]
     },
     "metadata": {},
     "output_type": "display_data"
    },
    {
     "data": {
      "text/html": [
       "Tracking run with wandb version 0.19.8"
      ],
      "text/plain": [
       "<IPython.core.display.HTML object>"
      ]
     },
     "metadata": {},
     "output_type": "display_data"
    },
    {
     "data": {
      "text/html": [
       "Run data is saved locally in <code>c:\\Users\\Joeld\\Desktop\\IITM\\SEM-08\\DA6401 - DEEP LEARNING\\DA6401-A01\\wandb\\run-20250309_235517-vff6m6ck</code>"
      ],
      "text/plain": [
       "<IPython.core.display.HTML object>"
      ]
     },
     "metadata": {},
     "output_type": "display_data"
    },
    {
     "data": {
      "text/html": [
       "Syncing run <strong><a href='https://wandb.ai/A1_DA6401_DL/Reporter/runs/vff6m6ck' target=\"_blank\">vocal-sea-121</a></strong> to <a href='https://wandb.ai/A1_DA6401_DL/Reporter' target=\"_blank\">Weights & Biases</a> (<a href='https://wandb.me/developer-guide' target=\"_blank\">docs</a>)<br>"
      ],
      "text/plain": [
       "<IPython.core.display.HTML object>"
      ]
     },
     "metadata": {},
     "output_type": "display_data"
    },
    {
     "data": {
      "text/html": [
       " View project at <a href='https://wandb.ai/A1_DA6401_DL/Reporter' target=\"_blank\">https://wandb.ai/A1_DA6401_DL/Reporter</a>"
      ],
      "text/plain": [
       "<IPython.core.display.HTML object>"
      ]
     },
     "metadata": {},
     "output_type": "display_data"
    },
    {
     "data": {
      "text/html": [
       " View run at <a href='https://wandb.ai/A1_DA6401_DL/Reporter/runs/vff6m6ck' target=\"_blank\">https://wandb.ai/A1_DA6401_DL/Reporter/runs/vff6m6ck</a>"
      ],
      "text/plain": [
       "<IPython.core.display.HTML object>"
      ]
     },
     "metadata": {},
     "output_type": "display_data"
    },
    {
     "name": "stdout",
     "output_type": "stream",
     "text": [
      "Epoch 1 || loss_train : 0.004193768556922985 | loss_test : 0.012604924446758323 || acc_train : 0.5225925925925926 | acc_test : 0.5206666666666667 ||\n",
      "Epoch 2 || loss_train : 0.003846355236223297 | loss_test : 0.01146837149490602 || acc_train : 0.5997777777777777 | acc_test : 0.6048333333333333 ||\n",
      "Epoch 3 || loss_train : 0.00363460790211636 | loss_test : 0.010875291607597048 || acc_train : 0.6430185185185185 | acc_test : 0.6448333333333334 ||\n",
      "Epoch 4 || loss_train : 0.0035237199284871346 | loss_test : 0.010601909246044894 || acc_train : 0.6646111111111112 | acc_test : 0.6625 ||\n",
      "Epoch 5 || loss_train : 0.0034792549004305914 | loss_test : 0.010434976092408382 || acc_train : 0.673 | acc_test : 0.6731666666666667 ||\n",
      "Epoch 6 || loss_train : 0.003445495226550281 | loss_test : 0.010309923942409888 || acc_train : 0.6792962962962963 | acc_test : 0.6808333333333333 ||\n",
      "Epoch 7 || loss_train : 0.00338136754993545 | loss_test : 0.01009155831790008 || acc_train : 0.6911481481481482 | acc_test : 0.6943333333333334 ||\n",
      "Epoch 8 || loss_train : 0.003261157334856623 | loss_test : 0.009710720943498244 || acc_train : 0.7127037037037037 | acc_test : 0.7171666666666666 ||\n",
      "Epoch 9 || loss_train : 0.0031514337291356316 | loss_test : 0.009311343901364014 || acc_train : 0.7317222222222223 | acc_test : 0.7398333333333333 ||\n",
      "Epoch 10 || loss_train : 0.0030640839752324326 | loss_test : 0.009035345495668052 || acc_train : 0.7464259259259259 | acc_test : 0.755 ||\n"
     ]
    }
   ],
   "source": [
    "epochs = 10\n",
    "run = wandb.init(entity=\"A1_DA6401_DL\", project=\"Reporter\", config={\"opt\" : optimizer, \"loss\": loss,})\n",
    "run.name = f\"Loss_{loss}_run1\"\n",
    "for epoch in range(1,epochs+1):\n",
    "    #i = 0\n",
    "    #print(f\"Epoch : {epoch}\")\n",
    "    for X_, y_ in batch_train:\n",
    "\n",
    "        md1.train_step(X_, y_, epoch)\n",
    "\n",
    "    train_pred = md1.forward_call(inputs_=x_train)\n",
    "    test_pred = md1.forward_call(inputs_=x_cv)\n",
    "\n",
    "    loss_train = source.find_loss(y_pred= train_pred, y_true =y_train, loss=\"mean_squared_error\")\n",
    "    loss_cv = source.find_loss(y_pred= test_pred, y_true = y_cv, loss = \"mean_squared_error\")\n",
    "\n",
    "    train_pred = md1.forward_call(inputs_=x_train,threshold=True)\n",
    "    test_pred = md1.forward_call(inputs_=x_cv,threshold=True)\n",
    "\n",
    "    accuracy_train = source.accuracy(train_pred, y_train)\n",
    "    accuracy_cv = source.accuracy(test_pred,  y_cv)\n",
    "\n",
    "    run.log(data={\"loss_train\" : loss_train, \"loss_cv\" : loss_cv, \"acc_train\" : accuracy_train, \"acc_cv\" : accuracy_cv})\n",
    "    if epoch%1 == 0:\n",
    "        print(F\"Epoch {epoch} || loss_train : {loss_train} | loss_test : {loss_cv} || acc_train : {accuracy_train} | acc_test : {accuracy_cv} ||\")"
   ]
  },
  {
   "cell_type": "code",
   "execution_count": 9,
   "metadata": {},
   "outputs": [],
   "source": [
    "cv_pred = md1.forward_call(inputs_=x_cv,threshold=True)\n",
    "\n",
    "from sklearn.metrics import confusion_matrix\n",
    "\n",
    "cv_pred = np.argmax(cv_pred, axis=1)\n",
    "cv_true = np.argmax(y_cv, axis = 1)\n",
    "cm = confusion_matrix(cv_true, cv_pred)\n",
    "wandb.log({\n",
    "    \"Confusion Matrix\": wandb.plot.confusion_matrix(\n",
    "        y_true=cv_true,\n",
    "        preds=cv_pred,\n",
    "        class_names=class_names,\n",
    "        title=\"Confusion Matrix\"\n",
    "    )\n",
    "})\n"
   ]
  },
  {
   "cell_type": "code",
   "execution_count": 10,
   "metadata": {},
   "outputs": [
    {
     "data": {
      "text/html": [],
      "text/plain": [
       "<IPython.core.display.HTML object>"
      ]
     },
     "metadata": {},
     "output_type": "display_data"
    },
    {
     "data": {
      "text/html": [
       "<br>    <style><br>        .wandb-row {<br>            display: flex;<br>            flex-direction: row;<br>            flex-wrap: wrap;<br>            justify-content: flex-start;<br>            width: 100%;<br>        }<br>        .wandb-col {<br>            display: flex;<br>            flex-direction: column;<br>            flex-basis: 100%;<br>            flex: 1;<br>            padding: 10px;<br>        }<br>    </style><br><div class=\"wandb-row\"><div class=\"wandb-col\"><h3>Run history:</h3><br/><table class=\"wandb\"><tr><td>acc_cv</td><td>▁▄▅▅▆▆▆▇██</td></tr><tr><td>acc_train</td><td>▁▃▅▅▆▆▆▇██</td></tr><tr><td>loss_cv</td><td>█▆▅▄▄▃▃▂▂▁</td></tr><tr><td>loss_train</td><td>█▆▅▄▄▃▃▂▂▁</td></tr></table><br/></div><div class=\"wandb-col\"><h3>Run summary:</h3><br/><table class=\"wandb\"><tr><td>acc_cv</td><td>0.755</td></tr><tr><td>acc_train</td><td>0.74643</td></tr><tr><td>loss_cv</td><td>0.00904</td></tr><tr><td>loss_train</td><td>0.00306</td></tr></table><br/></div></div>"
      ],
      "text/plain": [
       "<IPython.core.display.HTML object>"
      ]
     },
     "metadata": {},
     "output_type": "display_data"
    },
    {
     "data": {
      "text/html": [
       " View run <strong style=\"color:#cdcd00\">Loss_mean_squared_error_run1</strong> at: <a href='https://wandb.ai/A1_DA6401_DL/Reporter/runs/vff6m6ck' target=\"_blank\">https://wandb.ai/A1_DA6401_DL/Reporter/runs/vff6m6ck</a><br> View project at: <a href='https://wandb.ai/A1_DA6401_DL/Reporter' target=\"_blank\">https://wandb.ai/A1_DA6401_DL/Reporter</a><br>Synced 5 W&B file(s), 2 media file(s), 2 artifact file(s) and 0 other file(s)"
      ],
      "text/plain": [
       "<IPython.core.display.HTML object>"
      ]
     },
     "metadata": {},
     "output_type": "display_data"
    },
    {
     "data": {
      "text/html": [
       "Find logs at: <code>.\\wandb\\run-20250309_235517-vff6m6ck\\logs</code>"
      ],
      "text/plain": [
       "<IPython.core.display.HTML object>"
      ]
     },
     "metadata": {},
     "output_type": "display_data"
    }
   ],
   "source": [
    "import wandb\n",
    "import numpy as np\n",
    "import matplotlib.pyplot as plt\n",
    "from sklearn.metrics import confusion_matrix\n",
    "import seaborn as sns\n",
    "\n",
    "# Initialize wandb\n",
    "#wandb.init(project=\"creative-confusion-matrix\")\n",
    "\n",
    "# Example true and predicted labels\n",
    "y_true = cv_true\n",
    "y_pred = cv_pred\n",
    "\n",
    "\n",
    "# Compute confusion matrix\n",
    "cm = confusion_matrix(y_true, y_pred)\n",
    "\n",
    "# Plot confusion matrix with custom colors and annotations\n",
    "plt.figure(figsize=(9,7))\n",
    "font = {'family' : 'Comic Sans MS','weight' : 'normal', 'size'   : 12}\n",
    "sns.heatmap(cm, annot=True, fmt=\"d\", cmap=\"Blues\", xticklabels=class_names, yticklabels=class_names,cbar=False)\n",
    "plt.title(\"Confusion Matrix\", fontdict= font)\n",
    "plt.xlabel(\"Predicted\",fontdict=font)\n",
    "plt.ylabel(\"True\", fontdict=font)\n",
    "plt.tight_layout()\n",
    "# Log the plot to wandb\n",
    "wandb.log({\"Confusion Matrix_chk\": wandb.Image(plt.gcf())})\n",
    "plt.close()\n",
    "\n",
    "# Finalize the wandb run\n",
    "wandb.finish()"
   ]
  },
  {
   "cell_type": "code",
   "execution_count": 12,
   "metadata": {},
   "outputs": [
    {
     "data": {
      "image/png": "[encoded data removed]",
      "text/plain": [
       "<Figure size 1000x800 with 1 Axes>"
      ]
     },
     "metadata": {},
     "output_type": "display_data"
    }
   ],
   "source": [
    "import wandb\n",
    "import numpy as np\n",
    "import matplotlib.pyplot as plt\n",
    "from sklearn.metrics import confusion_matrix\n",
    "from mpl_toolkits.mplot3d import Axes3D\n",
    "\n",
    "# Initialize wandb\n",
    "#wandb.init(project=\"3d-confusion-matrix\")\n",
    "\n",
    "# Example true and predicted labels\n",
    "y_true = cv_true\n",
    "y_pred = cv_pred\n",
    "\n",
    "# Compute confusion matrix\n",
    "cm = confusion_matrix(y_true, y_pred)\n",
    "\n",
    "# Create a 3D plot\n",
    "fig = plt.figure(figsize=(10, 8))\n",
    "ax = fig.add_subplot(111, projection='3d')\n",
    "\n",
    "# Create the 3D bars\n",
    "xpos, ypos = np.meshgrid(np.arange(cm.shape[0]), np.arange(cm.shape[1]))\n",
    "xpos = xpos.flatten()\n",
    "ypos = ypos.flatten()\n",
    "zpos = np.zeros_like(xpos)\n",
    "dx = dy = 0.5 * np.ones_like(zpos)\n",
    "dz = cm.flatten()\n",
    "\n",
    "ax.bar3d(xpos, ypos, zpos, dx, dy, dz, color='b', alpha=0.7)\n",
    "ax.set_xticks(np.arange(cm.shape[0]))\n",
    "ax.set_yticks(np.arange(cm.shape[1]))\n",
    "ax.set_xticklabels(class_names)\n",
    "ax.set_yticklabels(class_names)\n",
    "ax.set_xlabel('Predicted')\n",
    "ax.set_ylabel('True')\n",
    "ax.set_zlabel('Count')\n",
    "plt.title(\"3D Confusion Matrix\")\n",
    "plt.show()\n",
    "\n",
    "# Log the plot to wandb\n",
    "#wandb.log({\"3D Confusion Matrix\": wandb.Image(plt)})\n",
    "#plt.close()\n",
    "\n",
    "# Finalize the wandb run\n",
    "#wandb.finish()"
   ]
  },
  {
   "cell_type": "code",
   "execution_count": 33,
   "metadata": {},
   "outputs": [
    {
     "data": {
      "text/html": [],
      "text/plain": [
       "<IPython.core.display.HTML object>"
      ]
     },
     "metadata": {},
     "output_type": "display_data"
    },
    {
     "data": {
      "text/html": [
       "<br>    <style><br>        .wandb-row {<br>            display: flex;<br>            flex-direction: row;<br>            flex-wrap: wrap;<br>            justify-content: flex-start;<br>            width: 100%;<br>        }<br>        .wandb-col {<br>            display: flex;<br>            flex-direction: column;<br>            flex-basis: 100%;<br>            flex: 1;<br>            padding: 10px;<br>        }<br>    </style><br><div class=\"wandb-row\"><div class=\"wandb-col\"><h3>Run history:</h3><br/><table class=\"wandb\"><tr><td>acc_cv</td><td>▁▃▆▇█</td></tr><tr><td>acc_train</td><td>▁▄▆▇█</td></tr><tr><td>loss_cv</td><td>█▅▃▂▁</td></tr><tr><td>loss_train</td><td>█▅▃▂▁</td></tr></table><br/></div><div class=\"wandb-col\"><h3>Run summary:</h3><br/><table class=\"wandb\"><tr><td>acc_cv</td><td>0.87</td></tr><tr><td>acc_train</td><td>0.88087</td></tr><tr><td>loss_cv</td><td>0.38026</td></tr><tr><td>loss_train</td><td>0.32713</td></tr></table><br/></div></div>"
      ],
      "text/plain": [
       "<IPython.core.display.HTML object>"
      ]
     },
     "metadata": {},
     "output_type": "display_data"
    },
    {
     "data": {
      "text/html": [
       " View run <strong style=\"color:#cdcd00\">opt_nadam_Q3</strong> at: <a href='https://wandb.ai/A1_DA6401_DL/Reporter/runs/2oghn8si' target=\"_blank\">https://wandb.ai/A1_DA6401_DL/Reporter/runs/2oghn8si</a><br> View project at: <a href='https://wandb.ai/A1_DA6401_DL/Reporter' target=\"_blank\">https://wandb.ai/A1_DA6401_DL/Reporter</a><br>Synced 5 W&B file(s), 0 media file(s), 0 artifact file(s) and 0 other file(s)"
      ],
      "text/plain": [
       "<IPython.core.display.HTML object>"
      ]
     },
     "metadata": {},
     "output_type": "display_data"
    },
    {
     "data": {
      "text/html": [
       "Find logs at: <code>.\\wandb\\run-20250309_120439-2oghn8si\\logs</code>"
      ],
      "text/plain": [
       "<IPython.core.display.HTML object>"
      ]
     },
     "metadata": {},
     "output_type": "display_data"
    }
   ],
   "source": [
    "wandb.finish()"
   ]
  }
 ],
 "metadata": {
  "kernelspec": {
   "display_name": "Python 3",
   "language": "python",
   "name": "python3"
  },
  "language_info": {
   "codemirror_mode": {
    "name": "ipython",
    "version": 3
   },
   "file_extension": ".py",
   "mimetype": "text/x-python",
   "name": "python",
   "nbconvert_exporter": "python",
   "pygments_lexer": "ipython3",
   "version": "3.12.2"
  }
 },
 "nbformat": 4,
 "nbformat_minor": 2
}
